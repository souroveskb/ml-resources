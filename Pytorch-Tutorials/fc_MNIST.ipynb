{
  "nbformat": 4,
  "nbformat_minor": 0,
  "metadata": {
    "colab": {
      "provenance": [],
      "gpuType": "T4",
      "authorship_tag": "ABX9TyOt7U/u5OmOjZxqPcDkl5Xs",
      "include_colab_link": true
    },
    "kernelspec": {
      "name": "python3",
      "display_name": "Python 3"
    },
    "language_info": {
      "name": "python"
    },
    "accelerator": "GPU"
  },
  "cells": [
    {
      "cell_type": "markdown",
      "metadata": {
        "id": "view-in-github",
        "colab_type": "text"
      },
      "source": [
        "<a href=\"https://colab.research.google.com/github/souroveskb/ml-resources/blob/main/Pytorch-Tutorials/fc_MNIST.ipynb\" target=\"_parent\"><img src=\"https://colab.research.google.com/assets/colab-badge.svg\" alt=\"Open In Colab\"/></a>"
      ]
    },
    {
      "cell_type": "code",
      "execution_count": 1,
      "metadata": {
        "id": "VrY6XD6LGZGr"
      },
      "outputs": [],
      "source": [
        "#imports\n",
        "import torch\n",
        "import torch.nn as nn\n",
        "import torch.optim as optim\n",
        "import torch.nn.functional as F\n",
        "from torch.utils.data import DataLoader\n",
        "import torchvision.datasets as datasets\n",
        "import torchvision.transforms as transforms"
      ]
    },
    {
      "cell_type": "code",
      "source": [
        "#create Fully Connected network\n",
        "class NN(nn.Module):\n",
        "  def __init__(self, input_size, num_classes): #input-->784\n",
        "    super(NN, self).__init__()\n",
        "    self.fc1 = nn.Linear(input_size, 50)\n",
        "    self.fc2 = nn.Linear(50, num_classes)\n",
        "  def forward(self, x):\n",
        "    x = F.relu(self.fc1(x))\n",
        "    x = self.fc2(x)\n",
        "    return x"
      ],
      "metadata": {
        "id": "PvGZWRJYGiXc"
      },
      "execution_count": 2,
      "outputs": []
    },
    {
      "cell_type": "markdown",
      "source": [
        "#Initialising devices\n",
        "'Cuda' if it is available 'Cpu' if not"
      ],
      "metadata": {
        "id": "DXDdEHvQKeyB"
      }
    },
    {
      "cell_type": "code",
      "source": [
        "#initialise devices\n",
        "device = torch.device('cuda' if torch.cuda.is_available() else 'cpu')\n",
        "device"
      ],
      "metadata": {
        "colab": {
          "base_uri": "https://localhost:8080/"
        },
        "id": "fpbSm_U8I8Lv",
        "outputId": "dc722ed4-793f-45c2-af91-44e4d406c9f3"
      },
      "execution_count": 4,
      "outputs": [
        {
          "output_type": "execute_result",
          "data": {
            "text/plain": [
              "device(type='cuda')"
            ]
          },
          "metadata": {},
          "execution_count": 4
        }
      ]
    },
    {
      "cell_type": "markdown",
      "source": [
        "#Hyperparameters\n",
        "The values which needs to be predefined and are not included in the learning process(not subject to changes during training or deployment)"
      ],
      "metadata": {
        "id": "NrkDRabXJP9I"
      }
    },
    {
      "cell_type": "code",
      "source": [
        "#hyperparameters\n",
        "input_size = 784\n",
        "num_classes = 10  #mnist data for 0-9\n",
        "learning_rate = 0.001\n",
        "batch_size = 64\n",
        "num_epochs = 5"
      ],
      "metadata": {
        "id": "KaIuX6A_JP6F"
      },
      "execution_count": 5,
      "outputs": []
    },
    {
      "cell_type": "markdown",
      "source": [
        "We use existing datasets from pytorch datasets and operate on the MNIST number dataset.\n",
        "Create a root directory to store the data. Download if not already downloaded.\n",
        "Transform the Data to tensor as the loaded data would come as a numpy array."
      ],
      "metadata": {
        "id": "WgsBcaBtLfOS"
      }
    },
    {
      "cell_type": "code",
      "source": [
        "#laoding the Data\n",
        "train_dataset = datasets.MNIST(root= 'dataset/', train=True, download=True,\n",
        "               transform= transforms.ToTensor())\n",
        "train_loader = DataLoader(dataset = train_dataset, batch_size= batch_size, shuffle= True)\n",
        "test_dataset = datasets.MNIST(root= 'dataset/', train=False, download=True,\n",
        "               transform= transforms.ToTensor())\n",
        "test_loader = DataLoader(dataset = test_dataset, batch_size= batch_size, shuffle= True)"
      ],
      "metadata": {
        "colab": {
          "base_uri": "https://localhost:8080/"
        },
        "id": "KSe3mf5GJP3p",
        "outputId": "b1d00421-a2d0-4a2e-c628-a95261fd519f"
      },
      "execution_count": 7,
      "outputs": [
        {
          "output_type": "stream",
          "name": "stdout",
          "text": [
            "Downloading http://yann.lecun.com/exdb/mnist/train-images-idx3-ubyte.gz\n",
            "Downloading http://yann.lecun.com/exdb/mnist/train-images-idx3-ubyte.gz to dataset/MNIST/raw/train-images-idx3-ubyte.gz\n"
          ]
        },
        {
          "output_type": "stream",
          "name": "stderr",
          "text": [
            "100%|██████████| 9912422/9912422 [00:00<00:00, 118692453.33it/s]\n"
          ]
        },
        {
          "output_type": "stream",
          "name": "stdout",
          "text": [
            "Extracting dataset/MNIST/raw/train-images-idx3-ubyte.gz to dataset/MNIST/raw\n",
            "\n",
            "Downloading http://yann.lecun.com/exdb/mnist/train-labels-idx1-ubyte.gz\n",
            "Downloading http://yann.lecun.com/exdb/mnist/train-labels-idx1-ubyte.gz to dataset/MNIST/raw/train-labels-idx1-ubyte.gz\n"
          ]
        },
        {
          "output_type": "stream",
          "name": "stderr",
          "text": [
            "100%|██████████| 28881/28881 [00:00<00:00, 43185630.60it/s]\n"
          ]
        },
        {
          "output_type": "stream",
          "name": "stdout",
          "text": [
            "Extracting dataset/MNIST/raw/train-labels-idx1-ubyte.gz to dataset/MNIST/raw\n",
            "\n",
            "Downloading http://yann.lecun.com/exdb/mnist/t10k-images-idx3-ubyte.gz\n",
            "Downloading http://yann.lecun.com/exdb/mnist/t10k-images-idx3-ubyte.gz to dataset/MNIST/raw/t10k-images-idx3-ubyte.gz\n"
          ]
        },
        {
          "output_type": "stream",
          "name": "stderr",
          "text": [
            "100%|██████████| 1648877/1648877 [00:00<00:00, 32098410.35it/s]\n"
          ]
        },
        {
          "output_type": "stream",
          "name": "stdout",
          "text": [
            "Extracting dataset/MNIST/raw/t10k-images-idx3-ubyte.gz to dataset/MNIST/raw\n",
            "\n",
            "Downloading http://yann.lecun.com/exdb/mnist/t10k-labels-idx1-ubyte.gz\n",
            "Downloading http://yann.lecun.com/exdb/mnist/t10k-labels-idx1-ubyte.gz to dataset/MNIST/raw/t10k-labels-idx1-ubyte.gz\n"
          ]
        },
        {
          "output_type": "stream",
          "name": "stderr",
          "text": [
            "100%|██████████| 4542/4542 [00:00<00:00, 18143360.73it/s]\n"
          ]
        },
        {
          "output_type": "stream",
          "name": "stdout",
          "text": [
            "Extracting dataset/MNIST/raw/t10k-labels-idx1-ubyte.gz to dataset/MNIST/raw\n",
            "\n"
          ]
        }
      ]
    },
    {
      "cell_type": "markdown",
      "source": [
        "#Initialize the Network"
      ],
      "metadata": {
        "id": "WF51EyzHMyvT"
      }
    },
    {
      "cell_type": "code",
      "source": [
        "model = NN(input_size=input_size, num_classes=num_classes).to(device)"
      ],
      "metadata": {
        "id": "1MzXRs6EJPue"
      },
      "execution_count": 9,
      "outputs": []
    },
    {
      "cell_type": "markdown",
      "source": [
        "#Loss function and Optimizer initialisation"
      ],
      "metadata": {
        "id": "SoC9lcUxNjHI"
      }
    },
    {
      "cell_type": "code",
      "source": [
        "loss_function = nn.CrossEntropyLoss()\n",
        "optimizer = optim.Adam(model.parameters(), lr = learning_rate)"
      ],
      "metadata": {
        "id": "rJVcgGH7M-Q3"
      },
      "execution_count": 11,
      "outputs": []
    },
    {
      "cell_type": "markdown",
      "source": [
        "#Train the network\n"
      ],
      "metadata": {
        "id": "6X3XLVewNq0n"
      }
    },
    {
      "cell_type": "code",
      "source": [
        "for epoch in range(num_epochs): #num_epochs\n",
        "  for batch_idx, (data, targets) in enumerate(train_loader):\n",
        "    data = data.to(device=device)\n",
        "    targets = targets.to(device=device)\n",
        "\n",
        "    #get to batch_size, 784\n",
        "    data = data.reshape(data.shape[0], -1)\n",
        "\n",
        "    #forward\n",
        "    scores = model(data)\n",
        "    loss = loss_function(scores, targets)\n",
        "\n",
        "    #backward\n",
        "    optimizer.zero_grad()\n",
        "    loss.backward()\n",
        "\n",
        "    #gradient descent\n",
        "    optimizer.step()\n"
      ],
      "metadata": {
        "id": "IbFVIoZ7NoB8"
      },
      "execution_count": 21,
      "outputs": []
    },
    {
      "cell_type": "markdown",
      "source": [
        "#Check the accuracy"
      ],
      "metadata": {
        "id": "Klv1fSWEPT1f"
      }
    },
    {
      "cell_type": "code",
      "source": [
        "def check_accuracy(loader, model):\n",
        "  if loader.dataset.train:\n",
        "    print(\"Checking accuracy on training data\")\n",
        "  else:\n",
        "    print(\"Checking accuracy on test data\")\n",
        "  num_correct = 0\n",
        "  num_samples = 0\n",
        "  model.eval()\n",
        "\n",
        "  with torch.no_grad():\n",
        "    for x,y in loader:\n",
        "      x = x.to(device=device)\n",
        "      y = y.to(device=device)\n",
        "      x = x.reshape(x.shape[0], -1)\n",
        "      scores = model(x)\n",
        "\n",
        "      #taking the maximum of 10 digits of 64x10\n",
        "      _, predictions = scores.max(1) #values and index are given back but we only need the index\n",
        "      num_correct += (predictions==y).sum()\n",
        "      num_samples += predictions.size(0)\n",
        "    print(f'Got {num_correct}/{num_samples} with accuracy {float(num_correct)/float(num_samples) *100:.2f}')\n",
        "\n",
        "  model.train() #if we want to check during the training process"
      ],
      "metadata": {
        "id": "eD2YOzSJNMZ2"
      },
      "execution_count": 18,
      "outputs": []
    },
    {
      "cell_type": "code",
      "source": [
        "#Check the accuracy\n",
        "check_accuracy(train_loader, model)\n",
        "check_accuracy(test_loader, model)"
      ],
      "metadata": {
        "colab": {
          "base_uri": "https://localhost:8080/"
        },
        "id": "k7FgXXNlRXam",
        "outputId": "d26eb8d6-4ba4-4371-f63c-5196a1099ea9"
      },
      "execution_count": 22,
      "outputs": [
        {
          "output_type": "stream",
          "name": "stdout",
          "text": [
            "Checking accuracy on training data\n",
            "Got 59091/60000 with accuracy 98.48\n",
            "Checking accuracy on test data\n",
            "Got 9715/10000 with accuracy 97.15\n"
          ]
        }
      ]
    },
    {
      "cell_type": "markdown",
      "source": [
        "epoch *5*\n",
        "Checking accuracy on training data\n",
        "Got 58397/60000 with accuracy 97.33\n",
        "Checking accuracy on test data\n",
        "Got 9653/10000 with accuracy 96.53"
      ],
      "metadata": {
        "id": "gOO6Jx8PRqHn"
      }
    },
    {
      "cell_type": "code",
      "source": [],
      "metadata": {
        "id": "zN_9pOT3RfbS"
      },
      "execution_count": null,
      "outputs": []
    }
  ]
}