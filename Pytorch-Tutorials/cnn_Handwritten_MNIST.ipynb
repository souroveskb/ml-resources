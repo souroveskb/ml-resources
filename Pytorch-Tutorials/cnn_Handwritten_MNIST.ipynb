{
  "nbformat": 4,
  "nbformat_minor": 0,
  "metadata": {
    "colab": {
      "provenance": [],
      "gpuType": "T4",
      "authorship_tag": "ABX9TyObz3Dq2qeorKKqkRXRfLJV",
      "include_colab_link": true
    },
    "kernelspec": {
      "name": "python3",
      "display_name": "Python 3"
    },
    "language_info": {
      "name": "python"
    },
    "accelerator": "GPU"
  },
  "cells": [
    {
      "cell_type": "markdown",
      "metadata": {
        "id": "view-in-github",
        "colab_type": "text"
      },
      "source": [
        "<a href=\"https://colab.research.google.com/github/souroveskb/ml-resources/blob/main/Pytorch-Tutorials/cnn_Handwritten_MNIST.ipynb\" target=\"_parent\"><img src=\"https://colab.research.google.com/assets/colab-badge.svg\" alt=\"Open In Colab\"/></a>"
      ]
    },
    {
      "cell_type": "code",
      "execution_count": 1,
      "metadata": {
        "id": "hMStJqZOSn1J"
      },
      "outputs": [],
      "source": [
        "#Imports\n",
        "import torch\n",
        "import torch.nn.functional as F  # Parameterless functions, like (some) activation functions\n",
        "import torchvision.datasets as datasets  # Standard datasets\n",
        "import torchvision.transforms as transforms  # Transformations we can perform on our dataset for augmentation\n",
        "from torch import optim  # For optimizers like SGD, Adam, etc.\n",
        "from torch import nn  # All neural network modules\n",
        "from torch.utils.data import (DataLoader)  # Gives easier dataset managment by creating mini batches etc.\n",
        "from tqdm import tqdm  # For nice progress bar!"
      ]
    },
    {
      "cell_type": "code",
      "source": [
        "# Simple CNN\n",
        "class CNN(nn.Module):\n",
        "  def __init__(self, in_channels = 1, num_classes =10):\n",
        "    super(CNN, self).__init__()\n",
        "    self.conv1 = nn.Conv2d(\n",
        "        in_channels = in_channels,\n",
        "        out_channels = 8,\n",
        "        kernel_size = 3,\n",
        "        stride = 1,\n",
        "        padding = 1,\n",
        "    )\n",
        "    self.pool = nn.MaxPool2d(kernel_size=2, stride=2)\n",
        "    self.conv2 = nn.Conv2d(\n",
        "        in_channels=8,\n",
        "        out_channels =16,\n",
        "        kernel_size = 3,\n",
        "        stride = 1,\n",
        "        padding =1,\n",
        "    )\n",
        "    self.fc1 = nn.Linear(16*7*7, num_classes)\n",
        "\n",
        "  def forward(self,x):\n",
        "    x = F.relu(self.conv1(x))\n",
        "    x = self.pool(x)\n",
        "    x = F.relu(self.conv2(x))\n",
        "    x = self.pool(x)\n",
        "    x = x.reshape(x.shape[0], -1)\n",
        "    x = self.fc1(x)\n",
        "    return x"
      ],
      "metadata": {
        "id": "WNzr12uYVKj2"
      },
      "execution_count": 18,
      "outputs": []
    },
    {
      "cell_type": "code",
      "source": [
        "# Set device\n",
        "device = torch.device(\"cuda\" if torch.cuda.is_available() else \"cpu\")"
      ],
      "metadata": {
        "id": "D2B8hBmrVSYv"
      },
      "execution_count": 19,
      "outputs": []
    },
    {
      "cell_type": "code",
      "source": [
        "# Hyperparameters\n",
        "in_channels = 1\n",
        "num_classes = 10\n",
        "learning_rate = 3e-4 # karpathy's constant\n",
        "batch_size = 64\n",
        "num_epochs = 5"
      ],
      "metadata": {
        "id": "6DGCK-MkVSV4"
      },
      "execution_count": 20,
      "outputs": []
    },
    {
      "cell_type": "code",
      "source": [
        "# Load Data\n",
        "train_dataset = datasets.MNIST(\n",
        "    root=\"dataset/\", train=True, transform=transforms.ToTensor(), download=True\n",
        ")\n",
        "test_dataset = datasets.MNIST(\n",
        "    root=\"dataset/\", train=False, transform=transforms.ToTensor(), download=True\n",
        ")\n",
        "train_loader = DataLoader(dataset=train_dataset, batch_size=batch_size, shuffle=True)\n",
        "test_loader = DataLoader(dataset=test_dataset, batch_size=batch_size, shuffle=True)"
      ],
      "metadata": {
        "id": "4Rdle9RzVSTc"
      },
      "execution_count": 21,
      "outputs": []
    },
    {
      "cell_type": "code",
      "source": [
        "#initialise the network\n",
        "model = CNN(in_channels = in_channels, num_classes = num_classes).to(device=device)"
      ],
      "metadata": {
        "id": "Xvo6IeXAVSQ5"
      },
      "execution_count": 22,
      "outputs": []
    },
    {
      "cell_type": "code",
      "source": [
        "#loss and optimizers\n",
        "loss_function = nn.CrossEntropyLoss()\n",
        "optimizer = optim.Adam(model.parameters(), lr = learning_rate)"
      ],
      "metadata": {
        "id": "1OH4s4-GVSJM"
      },
      "execution_count": 23,
      "outputs": []
    },
    {
      "cell_type": "code",
      "source": [
        "# Train the network\n",
        "for epoch in range(num_epochs):\n",
        "  for batch_idx, (data, targets) in enumerate(tqdm(train_loader)):\n",
        "    #get data in cuda if possible\n",
        "    data = data.to(device=device)\n",
        "    targets = targets.to(device=device)\n",
        "\n",
        "    #forward\n",
        "    scores = model(data)\n",
        "    loss = loss_function(scores, targets)\n",
        "\n",
        "    #backward\n",
        "    optimizer.zero_grad()\n",
        "    loss.backward()\n",
        "\n",
        "    #gradient descent or adam step\n",
        "    optimizer.step()"
      ],
      "metadata": {
        "colab": {
          "base_uri": "https://localhost:8080/"
        },
        "id": "zJSEK3neaHJt",
        "outputId": "84df1f69-85d8-443c-d9a2-762288174e17"
      },
      "execution_count": 24,
      "outputs": [
        {
          "output_type": "stream",
          "name": "stderr",
          "text": [
            "100%|██████████| 938/938 [00:25<00:00, 37.37it/s]\n",
            "100%|██████████| 938/938 [00:26<00:00, 35.67it/s]\n",
            "100%|██████████| 938/938 [00:26<00:00, 35.24it/s]\n",
            "100%|██████████| 938/938 [00:25<00:00, 37.11it/s]\n",
            "100%|██████████| 938/938 [00:24<00:00, 37.83it/s]\n"
          ]
        }
      ]
    },
    {
      "cell_type": "code",
      "source": [
        "# check accuracy\n",
        "def check_accuracy(loader, model):\n",
        "  num_correct = 0\n",
        "  num_samples = 0\n",
        "  model.eval()\n",
        "\n",
        "  with torch.no_grad():\n",
        "    for x, y in loader:\n",
        "      x = x.to(device=device)\n",
        "      y = y.to(device =device)\n",
        "\n",
        "      scores = model(x)\n",
        "      _,predictions = scores.max(1)\n",
        "      num_correct += (predictions ==y).sum()\n",
        "      num_samples += predictions.size(0)\n",
        "  model.train()\n",
        "  return num_correct/num_samples"
      ],
      "metadata": {
        "id": "S3-16oYDaHG6"
      },
      "execution_count": 26,
      "outputs": []
    },
    {
      "cell_type": "code",
      "source": [
        "print(f\"Accuracy on training set: {check_accuracy(train_loader, model)*100:.2f}\")\n",
        "print(f\"Accuracy on test set: {check_accuracy(test_loader, model)*100:.2f}\")"
      ],
      "metadata": {
        "colab": {
          "base_uri": "https://localhost:8080/"
        },
        "id": "S0vcfElLaHEc",
        "outputId": "6e5cf5a9-bdaa-4195-9649-a17fe8256d82"
      },
      "execution_count": 27,
      "outputs": [
        {
          "output_type": "stream",
          "name": "stdout",
          "text": [
            "Accuracy on training set: 97.53\n",
            "Accuracy on test set: 97.72\n"
          ]
        }
      ]
    },
    {
      "cell_type": "code",
      "source": [],
      "metadata": {
        "id": "_7QUBDsEaHCd"
      },
      "execution_count": null,
      "outputs": []
    },
    {
      "cell_type": "code",
      "source": [],
      "metadata": {
        "id": "Fad_A-evaHAP"
      },
      "execution_count": null,
      "outputs": []
    }
  ]
}