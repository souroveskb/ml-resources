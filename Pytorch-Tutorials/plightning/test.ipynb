{
 "cells": [
  {
   "cell_type": "code",
   "execution_count": 1,
   "metadata": {},
   "outputs": [],
   "source": [
    "import torch\n",
    "from torch import nn\n",
    "from torch import optim\n",
    "from torchvision import datasets, transforms\n",
    "from torch.utils.data import  random_split, DataLoader\n",
    "\n",
    "\n",
    "import pytorch_lightning as pl\n",
    "import torchmetrics"
   ]
  },
  {
   "cell_type": "code",
   "execution_count": 2,
   "metadata": {},
   "outputs": [],
   "source": [
    "# basic model\n",
    "model = nn.Sequential(\n",
    "    nn.Linear(28*28, 64),\n",
    "    nn.ReLU(),\n",
    "    nn.Linear(64, 64),\n",
    "    nn.ReLU(),\n",
    "    nn.Linear(64, 10)\n",
    ")"
   ]
  },
  {
   "cell_type": "code",
   "execution_count": 46,
   "metadata": {},
   "outputs": [],
   "source": [
    "class ResNet(pl.LightningModule):\n",
    "    def __init__(self):\n",
    "        super().__init__()\n",
    "        self.l1 = nn.Linear(28*28, 64)\n",
    "        self.l2 = nn.Linear(64, 64)\n",
    "        self.l3 = nn.Linear(64, 10)\n",
    "        self.do = nn.Dropout(0.1)\n",
    "        \n",
    "        self.loss_f = nn.CrossEntropyLoss()\n",
    "        self.accuracy = torchmetrics.classification.Accuracy(task=\"multiclass\", num_classes=10)\n",
    "    \n",
    "    def forward(self, x):\n",
    "        h1 = nn.functional.relu(self.l1(x))\n",
    "        h2 = nn.functional.relu(self.l2(h1))\n",
    "        do = self.do(h1+h2)\n",
    "        logits = self.l3(do)\n",
    "        return logits\n",
    "\n",
    "    def configure_optimizers(self):\n",
    "        optimiser = optim.SGD(self.parameters(), lr=1.5e-3)\n",
    "        return optimiser\n",
    "\n",
    "    def training_step(self, batch, batch_idx):\n",
    "\n",
    "        x, y = batch\n",
    "        # x -> b * 1 * 28 * 28\n",
    "        b = x.size(0)\n",
    "        x = x.view(b, -1)\n",
    "\n",
    "        # step 1: forward\n",
    "        logits = self(x)  # y_hat : logits\n",
    "        # step 2: compute the objective/loss function\n",
    "        loss = self.loss_f(logits, y)\n",
    "        acc = self.accuracy(logits, y)\n",
    "        \n",
    "        # self.log(\"train_loss\", loss, prog_bar=True)\n",
    "        # self.log(\"train_acc\", acc, prog_bar=True)\n",
    "        # pbar = {'train_acc': acc}\n",
    "        # return {'loss': loss}\n",
    "        return loss\n",
    "\n",
    "    def validation_step(self, batch, batch_idx):\n",
    "        x, y = batch\n",
    "        b = x.size(0)\n",
    "        x = x.view(b, -1)\n",
    "        logits = self(x) \n",
    "        loss = self.loss_f(logits, y)\n",
    "        acc = self.accuracy(logits, y)\n",
    "        self.log(\"val_loss\", loss, prog_bar=True)\n",
    "        self.log(\"val_acc\", acc, prog_bar=True)\n",
    "        return loss\n",
    "\n",
    "    def prepare_data(self):\n",
    "        datasets.MNIST('data', train=True, download=True, transform=transforms.ToTensor())\n",
    "\n",
    "    def setup(self, stage=None):\n",
    "        dataset = datasets.MNIST('data', train=True, download=False, transform=transforms.ToTensor())\n",
    "        self.train_data, self.val_data = random_split(dataset, [55000, 5000])\n",
    "        \n",
    "    def train_dataloader(self):\n",
    "        train_loader = DataLoader(self.train_data, batch_size=32, num_workers=2)\n",
    "        return train_loader\n",
    "\n",
    "    def val_dataloader(self):\n",
    "        val_loader = DataLoader(self.val_data, batch_size = 32, num_workers=2)\n",
    "        return val_loader\n",
    "    \n",
    "\n",
    "# initialise model\n",
    "model = ResNet()"
   ]
  },
  {
   "cell_type": "code",
   "execution_count": 47,
   "metadata": {},
   "outputs": [
    {
     "name": "stderr",
     "output_type": "stream",
     "text": [
      "GPU available: False, used: False\n",
      "TPU available: False, using: 0 TPU cores\n",
      "IPU available: False, using: 0 IPUs\n",
      "HPU available: False, using: 0 HPUs\n"
     ]
    },
    {
     "name": "stderr",
     "output_type": "stream",
     "text": [
      "\n",
      "  | Name     | Type               | Params\n",
      "------------------------------------------------\n",
      "0 | l1       | Linear             | 50.2 K\n",
      "1 | l2       | Linear             | 4.2 K \n",
      "2 | l3       | Linear             | 650   \n",
      "3 | do       | Dropout            | 0     \n",
      "4 | loss_f   | CrossEntropyLoss   | 0     \n",
      "5 | accuracy | MulticlassAccuracy | 0     \n",
      "------------------------------------------------\n",
      "55.1 K    Trainable params\n",
      "0         Non-trainable params\n",
      "55.1 K    Total params\n",
      "0.220     Total estimated model params size (MB)\n"
     ]
    },
    {
     "data": {
      "application/vnd.jupyter.widget-view+json": {
       "model_id": "a48b18c49a74465db837935b79f08305",
       "version_major": 2,
       "version_minor": 0
      },
      "text/plain": [
       "Sanity Checking: |          | 0/? [00:00<?, ?it/s]"
      ]
     },
     "metadata": {},
     "output_type": "display_data"
    },
    {
     "data": {
      "application/vnd.jupyter.widget-view+json": {
       "model_id": "ff52ea37923e49f9b42fc28550008ad4",
       "version_major": 2,
       "version_minor": 0
      },
      "text/plain": [
       "Training: |          | 0/? [00:00<?, ?it/s]"
      ]
     },
     "metadata": {},
     "output_type": "display_data"
    },
    {
     "data": {
      "application/vnd.jupyter.widget-view+json": {
       "model_id": "bffe7fcd102e44bdb8c4891dadcb0b6e",
       "version_major": 2,
       "version_minor": 0
      },
      "text/plain": [
       "Validation: |          | 0/? [00:00<?, ?it/s]"
      ]
     },
     "metadata": {},
     "output_type": "display_data"
    },
    {
     "data": {
      "application/vnd.jupyter.widget-view+json": {
       "model_id": "7f3e38705d1e45c48e9b4fd4d7e7dad6",
       "version_major": 2,
       "version_minor": 0
      },
      "text/plain": [
       "Validation: |          | 0/? [00:00<?, ?it/s]"
      ]
     },
     "metadata": {},
     "output_type": "display_data"
    },
    {
     "data": {
      "application/vnd.jupyter.widget-view+json": {
       "model_id": "b3588cde332e445cae5ddd7627b7db27",
       "version_major": 2,
       "version_minor": 0
      },
      "text/plain": [
       "Validation: |          | 0/? [00:00<?, ?it/s]"
      ]
     },
     "metadata": {},
     "output_type": "display_data"
    },
    {
     "name": "stderr",
     "output_type": "stream",
     "text": [
      "`Trainer.fit` stopped: `max_epochs=3` reached.\n"
     ]
    }
   ],
   "source": [
    "trainer = pl.Trainer(max_epochs=3)\n",
    "trainer.fit(model)"
   ]
  },
  {
   "cell_type": "code",
   "execution_count": 8,
   "metadata": {},
   "outputs": [],
   "source": [
    "# Define the optimizers\n",
    "params = model.parameters()\n",
    "optimiser = optim.SGD(model.parameters(), lr=1.5e-3)"
   ]
  },
  {
   "cell_type": "code",
   "execution_count": 9,
   "metadata": {},
   "outputs": [],
   "source": [
    "# Define the loss function\n",
    "loss = nn.CrossEntropyLoss()"
   ]
  },
  {
   "cell_type": "code",
   "execution_count": 10,
   "metadata": {},
   "outputs": [],
   "source": [
    "# Train, Val split\n",
    "train_data = datasets.MNIST('data', train=True, download=True, transform=transforms.ToTensor())\n",
    "train, val = random_split(train_data, [55000, 5000])\n",
    "train_loader = DataLoader(train, batch_size=32)\n",
    "val_loader = DataLoader(val, batch_size = 32)"
   ]
  },
  {
   "cell_type": "code",
   "execution_count": 2,
   "metadata": {},
   "outputs": [
    {
     "data": {
      "text/plain": [
       "tensor([-0.2269,  0.3183,  0.3237, -1.1954, -0.2639], device='cuda:0')"
      ]
     },
     "execution_count": 2,
     "metadata": {},
     "output_type": "execute_result"
    }
   ],
   "source": [
    "torch.randn(5).cuda()"
   ]
  },
  {
   "cell_type": "code",
   "execution_count": 13,
   "metadata": {},
   "outputs": [
    {
     "ename": "RuntimeError",
     "evalue": "CUDA unknown error - this may be due to an incorrectly set up environment, e.g. changing env variable CUDA_VISIBLE_DEVICES after program start. Setting the available devices to be zero.",
     "output_type": "error",
     "traceback": [
      "\u001b[0;31m---------------------------------------------------------------------------\u001b[0m",
      "\u001b[0;31mRuntimeError\u001b[0m                              Traceback (most recent call last)",
      "Cell \u001b[0;32mIn[13], line 14\u001b[0m\n\u001b[1;32m     12\u001b[0m \u001b[38;5;66;03m# x -> b * 1 * 28 * 28\u001b[39;00m\n\u001b[1;32m     13\u001b[0m b \u001b[38;5;241m=\u001b[39m x\u001b[38;5;241m.\u001b[39msize(\u001b[38;5;241m0\u001b[39m)\n\u001b[0;32m---> 14\u001b[0m x \u001b[38;5;241m=\u001b[39m x\u001b[38;5;241m.\u001b[39mview(b, \u001b[38;5;241m-\u001b[39m\u001b[38;5;241m1\u001b[39m)\u001b[38;5;241m.\u001b[39mcuda()\n\u001b[1;32m     16\u001b[0m \u001b[38;5;66;03m# step 1: forward\u001b[39;00m\n\u001b[1;32m     17\u001b[0m y_hat \u001b[38;5;241m=\u001b[39m model(x)  \u001b[38;5;66;03m# y_hat : logits\u001b[39;00m\n",
      "File \u001b[0;32m~/miniconda3/envs/torchpl/lib/python3.11/site-packages/torch/cuda/__init__.py:298\u001b[0m, in \u001b[0;36m_lazy_init\u001b[0;34m()\u001b[0m\n\u001b[1;32m    296\u001b[0m \u001b[38;5;28;01mif\u001b[39;00m \u001b[38;5;124m\"\u001b[39m\u001b[38;5;124mCUDA_MODULE_LOADING\u001b[39m\u001b[38;5;124m\"\u001b[39m \u001b[38;5;129;01mnot\u001b[39;00m \u001b[38;5;129;01min\u001b[39;00m os\u001b[38;5;241m.\u001b[39menviron:\n\u001b[1;32m    297\u001b[0m     os\u001b[38;5;241m.\u001b[39menviron[\u001b[38;5;124m\"\u001b[39m\u001b[38;5;124mCUDA_MODULE_LOADING\u001b[39m\u001b[38;5;124m\"\u001b[39m] \u001b[38;5;241m=\u001b[39m \u001b[38;5;124m\"\u001b[39m\u001b[38;5;124mLAZY\u001b[39m\u001b[38;5;124m\"\u001b[39m\n\u001b[0;32m--> 298\u001b[0m torch\u001b[38;5;241m.\u001b[39m_C\u001b[38;5;241m.\u001b[39m_cuda_init()\n\u001b[1;32m    299\u001b[0m \u001b[38;5;66;03m# Some of the queued calls may reentrantly call _lazy_init();\u001b[39;00m\n\u001b[1;32m    300\u001b[0m \u001b[38;5;66;03m# we need to just return without initializing in that case.\u001b[39;00m\n\u001b[1;32m    301\u001b[0m \u001b[38;5;66;03m# However, we must not let any *other* threads in!\u001b[39;00m\n\u001b[1;32m    302\u001b[0m _tls\u001b[38;5;241m.\u001b[39mis_initializing \u001b[38;5;241m=\u001b[39m \u001b[38;5;28;01mTrue\u001b[39;00m\n",
      "\u001b[0;31mRuntimeError\u001b[0m: CUDA unknown error - this may be due to an incorrectly set up environment, e.g. changing env variable CUDA_VISIBLE_DEVICES after program start. Setting the available devices to be zero."
     ]
    }
   ],
   "source": [
    "# Training loop\n",
    "nb_epochs = 5\n",
    "\n",
    "for epoch in range(nb_epochs):\n",
    "    losses = list()\n",
    "    accuracies = list()\n",
    "\n",
    "    model.train()\n",
    "    for batch in train_loader:\n",
    "        x, y = batch\n",
    "\n",
    "        # x -> b * 1 * 28 * 28\n",
    "        b = x.size(0)\n",
    "        x = x.view(b, -1).cuda()\n",
    "\n",
    "        # step 1: forward\n",
    "        y_hat = model(x)  # y_hat : logits\n",
    "\n",
    "        # step 2: compute the objective/loss function\n",
    "        j = loss(y_hat, y.cuda())\n",
    "\n",
    "        # step 3: cleaning the gradients\n",
    "        model.zero_grad() \n",
    "        # optimiser.zero_grad()\n",
    "        # params.grad._zero()\n",
    "\n",
    "        # step 4: compute the partial derivatives of j with parameters\n",
    "        j.backward()\n",
    "\n",
    "\n",
    "        # step 5: backprop/ oposite direction step\n",
    "        optimiser.step()\n",
    "        # with torch.no_grad(): params = params - eta * params.grad\n",
    "\n",
    "        losses.append(j.item())\n",
    "        accuracies.append(y.eq(y_hat.cpu().detach().argmax(dim=1)).float().mean())\n",
    "    print(f'Epoch {epoch+1}', end=', ')\n",
    "    print(f'training loss : {torch.tensor(losses).mean():.2f}', end=', ')\n",
    "    print(f'training accuracy : {torch.tensor(accuracies).mean():.2f}')\n",
    "\n",
    "    losses_val = list()\n",
    "    accuracies = list()\n",
    "    model.eval()\n",
    "    for batch in val_loader:\n",
    "        x, y = batch\n",
    "\n",
    "        # x -> b * 1 * 28 * 28\n",
    "        b = x.size(0)\n",
    "        x = x.view(b, -1).cuda()\n",
    "\n",
    "        # step 1: forward but with no grad\n",
    "        with torch.no_grad():\n",
    "            y_hat = model(x)  # y_hat : logits\n",
    "\n",
    "        # step 2: compute the objective/loss function\n",
    "        j = loss(y_hat, y.cuda())\n",
    "\n",
    "        losses_val.append(j.item())\n",
    "        accuracies.append(y.eq(y_hat.cpu().detach().argmax(dim=1)).float().mean())\n",
    "\n",
    "\n",
    "    \n",
    "    print(f'Epoch {epoch+1}', end=', ')\n",
    "    print(f'validation loss : {torch.tensor(losses_val).mean():.2f}', end=', ')\n",
    "    print(f'validation accuracy : {torch.tensor(accuracies).mean():.2f}')"
   ]
  },
  {
   "cell_type": "code",
   "execution_count": 12,
   "metadata": {},
   "outputs": [
    {
     "name": "stdout",
     "output_type": "stream",
     "text": [
      "'epoch=3-step=7500.ckpt'\n"
     ]
    }
   ],
   "source": [
    "!ls lightning_logs/version_3/checkpoints"
   ]
  },
  {
   "cell_type": "code",
   "execution_count": 5,
   "metadata": {},
   "outputs": [
    {
     "data": {
      "text/plain": [
       "True"
      ]
     },
     "execution_count": 5,
     "metadata": {},
     "output_type": "execute_result"
    }
   ],
   "source": [
    "import torch\n",
    "\n",
    "torch.cuda.is_available()"
   ]
  },
  {
   "cell_type": "code",
   "execution_count": null,
   "metadata": {},
   "outputs": [],
   "source": []
  }
 ],
 "metadata": {
  "kernelspec": {
   "display_name": "torchpl",
   "language": "python",
   "name": "python3"
  },
  "language_info": {
   "codemirror_mode": {
    "name": "ipython",
    "version": 3
   },
   "file_extension": ".py",
   "mimetype": "text/x-python",
   "name": "python",
   "nbconvert_exporter": "python",
   "pygments_lexer": "ipython3",
   "version": "3.11.7"
  }
 },
 "nbformat": 4,
 "nbformat_minor": 2
}
